{
 "cells": [
  {
   "cell_type": "code",
   "execution_count": 11,
   "metadata": {
    "ExecuteTime": {
     "end_time": "2019-08-17T14:22:07.944910Z",
     "start_time": "2019-08-17T14:22:07.929187Z"
    }
   },
   "outputs": [],
   "source": [
    "import pyautogui as pag\n",
    "from selenium import webdriver\n",
    "from PIL import Image\n",
    "import pyocr\n",
    "import pyocr.builders\n",
    "import cv2\n",
    "import matplotlib.pyplot as plt"
   ]
  },
  {
   "cell_type": "code",
   "execution_count": 12,
   "metadata": {
    "ExecuteTime": {
     "end_time": "2019-08-17T14:22:08.102195Z",
     "start_time": "2019-08-17T14:22:08.099780Z"
    }
   },
   "outputs": [],
   "source": [
    "import time\n",
    "from colorama import Fore"
   ]
  },
  {
   "cell_type": "code",
   "execution_count": 13,
   "metadata": {
    "ExecuteTime": {
     "end_time": "2019-08-17T14:22:08.265739Z",
     "start_time": "2019-08-17T14:22:08.262722Z"
    }
   },
   "outputs": [],
   "source": [
    "pag.PAUSE = 0.1"
   ]
  },
  {
   "cell_type": "code",
   "execution_count": 14,
   "metadata": {
    "ExecuteTime": {
     "end_time": "2019-08-17T14:22:08.448240Z",
     "start_time": "2019-08-17T14:22:08.444219Z"
    }
   },
   "outputs": [],
   "source": [
    "tools = pyocr.get_available_tools()\n",
    "tool = tools[0]"
   ]
  },
  {
   "cell_type": "code",
   "execution_count": 15,
   "metadata": {
    "ExecuteTime": {
     "end_time": "2019-08-17T14:22:08.628783Z",
     "start_time": "2019-08-17T14:22:08.625545Z"
    }
   },
   "outputs": [],
   "source": [
    "url = 'https://typing.twi1.me/game/16002'"
   ]
  },
  {
   "cell_type": "code",
   "execution_count": 16,
   "metadata": {
    "ExecuteTime": {
     "end_time": "2019-08-17T14:22:08.799431Z",
     "start_time": "2019-08-17T14:22:08.796521Z"
    }
   },
   "outputs": [],
   "source": [
    "def getURL(url):\n",
    "    browser = webdriver.Firefox()\n",
    "    browser.get(url)\n",
    "    time.sleep(3.0)"
   ]
  },
  {
   "cell_type": "code",
   "execution_count": 17,
   "metadata": {
    "ExecuteTime": {
     "end_time": "2019-08-17T14:22:08.979940Z",
     "start_time": "2019-08-17T14:22:08.969306Z"
    }
   },
   "outputs": [],
   "source": [
    "def starGame():\n",
    "    position_ok = pag.locateCenterOnScreen('ok.png')\n",
    "    if position_ok is not None:\n",
    "        pag.click(position_ok)\n",
    "        time.sleep(2.0)\n",
    "        position_start = pag.locateCenterOnScreen('start.png')\n",
    "        pag.click(position_start)\n",
    "        time.sleep(2.0)\n",
    "        pag.press('space')\n",
    "    else: \n",
    "        print(Fore.RED+'Not Found')"
   ]
  },
  {
   "cell_type": "code",
   "execution_count": 18,
   "metadata": {
    "ExecuteTime": {
     "end_time": "2019-08-17T14:22:09.166757Z",
     "start_time": "2019-08-17T14:22:09.159615Z"
    }
   },
   "outputs": [],
   "source": [
    "def typeWord(game):\n",
    "    try:\n",
    "        position_miss = pag.locateCenterOnScreen('miss.png')\n",
    "        game = 1\n",
    "        return game\n",
    "#         word_img = pag.screenshot('img_word_miss.png', region=(360, 620, 200, 40))\n",
    "#         img = cv2.imread('img_word_miss.png')\n",
    "#         dst = cv2.inRange(img,(0, 0, 10),(255, 255, 255))\n",
    "#         plt.imshow(dst)\n",
    "#         cv2.imwrite('img_word_dst.png', dst)\n",
    "#         word = tool.image_to_string(\n",
    "#                 Image.open('img_word_dst.png'),\n",
    "#                 lang='eng',\n",
    "#                 builder=pyocr.builders.TextBuilder(tesseract_layout=6)\n",
    "#         )\n",
    "#         pag.typewrite(word)\n",
    "#         print(word)\n",
    "#         time.sleep(0.5)   \n",
    "    except:\n",
    "        word_img = pag.screenshot('img_word.png', region=(364, 582, 200, 40))\n",
    "        word = tool.image_to_string(\n",
    "            Image.open('img_word.png'),\n",
    "            lang='eng',\n",
    "            builder=pyocr.builders.TextBuilder(tesseract_layout=6)\n",
    "        )\n",
    "        print(word)\n",
    "        pag.typewrite(word)\n",
    "        time.sleep(0.1)"
   ]
  },
  {
   "cell_type": "code",
   "execution_count": 19,
   "metadata": {
    "ExecuteTime": {
     "end_time": "2019-08-17T14:22:10.283559Z",
     "start_time": "2019-08-17T14:22:10.269091Z"
    }
   },
   "outputs": [],
   "source": [
    "def typing():\n",
    "    game =0\n",
    "    while game==0:\n",
    "        try:\n",
    "            position_score = pag.locateCenterOnScreen('score.png')\n",
    "            break\n",
    "        except:\n",
    "            typeWord(game)"
   ]
  },
  {
   "cell_type": "code",
   "execution_count": null,
   "metadata": {
    "ExecuteTime": {
     "start_time": "2019-08-17T14:22:11.428Z"
    }
   },
   "outputs": [
    {
     "name": "stdout",
     "output_type": "stream",
     "text": [
      "mail\n",
      "more\n",
      "sed\n",
      "rcp\n",
      "cat\n",
      "date\n",
      "exit\n",
      "telnet\n",
      "which\n",
      "Is\n",
      "Is\n",
      "Is\n",
      "Is\n",
      "Is\n",
      "Is\n",
      "Is\n",
      "Is\n",
      "Is\n",
      "Is\n",
      "Is\n",
      "Is\n",
      "Is\n",
      "Is\n",
      "Is\n",
      "Is\n",
      "Is\n",
      "Is\n",
      "Is\n",
      "Is\n",
      "\n",
      "\n"
     ]
    }
   ],
   "source": [
    "getURL(url)\n",
    "starGame()\n",
    "time.sleep(0.5)\n",
    "typing()"
   ]
  },
  {
   "cell_type": "code",
   "execution_count": 94,
   "metadata": {
    "ExecuteTime": {
     "end_time": "2019-08-17T13:20:46.757312Z",
     "start_time": "2019-08-17T13:20:46.743105Z"
    }
   },
   "outputs": [],
   "source": [
    "def typeWordDst():\n",
    "#     word_img = pag.screenshot('img_word.png', region=(364, 582, 200, 40))\n",
    "    img = cv2.imread('img_word.png')\n",
    "    dst = cv2.inRange(img,(0, 0, 10),(255, 255, 255))\n",
    "    plt.imshow(dst)\n",
    "    cv2.imwrite('img_word_dst.png', dst)\n",
    "    word = tool.image_to_string(\n",
    "            Image.open('img_word_dst.png'),\n",
    "            lang='eng',\n",
    "            builder=pyocr.builders.TextBuilder(tesseract_layout=6)\n",
    "    )\n",
    "#     pag.typewrite(word)\n",
    "#     time.sleep(0.5)\n",
    "    print(word)"
   ]
  }
 ],
 "metadata": {
  "kernelspec": {
   "display_name": "py37",
   "language": "python",
   "name": "py37"
  },
  "language_info": {
   "codemirror_mode": {
    "name": "ipython",
    "version": 3
   },
   "file_extension": ".py",
   "mimetype": "text/x-python",
   "name": "python",
   "nbconvert_exporter": "python",
   "pygments_lexer": "ipython3",
   "version": "3.7.3"
  },
  "toc": {
   "base_numbering": 1,
   "nav_menu": {},
   "number_sections": true,
   "sideBar": true,
   "skip_h1_title": false,
   "title_cell": "Table of Contents",
   "title_sidebar": "Contents",
   "toc_cell": false,
   "toc_position": {},
   "toc_section_display": true,
   "toc_window_display": false
  }
 },
 "nbformat": 4,
 "nbformat_minor": 2
}
