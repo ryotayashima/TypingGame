{
 "cells": [
  {
   "cell_type": "code",
   "execution_count": 1,
   "metadata": {
    "ExecuteTime": {
     "end_time": "2019-08-17T14:15:32.175596Z",
     "start_time": "2019-08-17T14:15:31.825242Z"
    }
   },
   "outputs": [],
   "source": [
    "import pyautogui as pag\n",
    "from selenium import webdriver\n",
    "from PIL import Image\n",
    "import pyocr\n",
    "import pyocr.builders\n",
    "import cv2\n",
    "import matplotlib.pyplot as plt"
   ]
  },
  {
   "cell_type": "code",
   "execution_count": 2,
   "metadata": {
    "ExecuteTime": {
     "end_time": "2019-08-17T14:15:32.180325Z",
     "start_time": "2019-08-17T14:15:32.177390Z"
    }
   },
   "outputs": [],
   "source": [
    "import time\n",
    "from colorama import Fore"
   ]
  },
  {
   "cell_type": "code",
   "execution_count": 3,
   "metadata": {
    "ExecuteTime": {
     "end_time": "2019-08-17T14:15:32.192187Z",
     "start_time": "2019-08-17T14:15:32.183756Z"
    }
   },
   "outputs": [],
   "source": [
    "pag.PAUSE = 0.1"
   ]
  },
  {
   "cell_type": "code",
   "execution_count": 4,
   "metadata": {
    "ExecuteTime": {
     "end_time": "2019-08-17T14:15:32.200092Z",
     "start_time": "2019-08-17T14:15:32.194308Z"
    }
   },
   "outputs": [],
   "source": [
    "tools = pyocr.get_available_tools()\n",
    "tool = tools[0]"
   ]
  },
  {
   "cell_type": "code",
   "execution_count": 5,
   "metadata": {
    "ExecuteTime": {
     "end_time": "2019-08-17T14:15:32.208003Z",
     "start_time": "2019-08-17T14:15:32.202520Z"
    }
   },
   "outputs": [],
   "source": [
    "url = 'https://typing.twi1.me/game/16002'"
   ]
  },
  {
   "cell_type": "code",
   "execution_count": 6,
   "metadata": {
    "ExecuteTime": {
     "end_time": "2019-08-17T14:15:32.215444Z",
     "start_time": "2019-08-17T14:15:32.210487Z"
    }
   },
   "outputs": [],
   "source": [
    "def getURL(url):\n",
    "    browser = webdriver.Firefox()\n",
    "    browser.get(url)\n",
    "    time.sleep(3.0)"
   ]
  },
  {
   "cell_type": "code",
   "execution_count": 7,
   "metadata": {
    "ExecuteTime": {
     "end_time": "2019-08-17T14:15:32.227539Z",
     "start_time": "2019-08-17T14:15:32.223316Z"
    }
   },
   "outputs": [],
   "source": [
    "def starGame():\n",
    "    position_ok = pag.locateCenterOnScreen('ok.png')\n",
    "    if position_ok is not None:\n",
    "        pag.click(position_ok)\n",
    "        time.sleep(2.0)\n",
    "        position_start = pag.locateCenterOnScreen('start.png')\n",
    "        pag.click(position_start)\n",
    "        time.sleep(2.0)\n",
    "        pag.press('space')\n",
    "    else: \n",
    "        print(Fore.RED+'Not Found')"
   ]
  },
  {
   "cell_type": "code",
   "execution_count": 9,
   "metadata": {
    "ExecuteTime": {
     "end_time": "2019-08-17T14:17:24.096492Z",
     "start_time": "2019-08-17T14:17:24.081832Z"
    }
   },
   "outputs": [
    {
     "ename": "SyntaxError",
     "evalue": "invalid syntax (<ipython-input-9-bbf91b642804>, line 4)",
     "output_type": "error",
     "traceback": [
      "\u001b[0;36m  File \u001b[0;32m\"<ipython-input-9-bbf91b642804>\"\u001b[0;36m, line \u001b[0;32m4\u001b[0m\n\u001b[0;31m    return game = 1\u001b[0m\n\u001b[0m                ^\u001b[0m\n\u001b[0;31mSyntaxError\u001b[0m\u001b[0;31m:\u001b[0m invalid syntax\n"
     ]
    }
   ],
   "source": [
    "def typeWord(game):\n",
    "    try:\n",
    "        position_miss = pag.locateCenterOnScreen('miss.png')\n",
    "        game = 1\n",
    "        return game\n",
    "#         word_img = pag.screenshot('img_word_miss.png', region=(360, 620, 200, 40))\n",
    "#         img = cv2.imread('img_word_miss.png')\n",
    "#         dst = cv2.inRange(img,(0, 0, 10),(255, 255, 255))\n",
    "#         plt.imshow(dst)\n",
    "#         cv2.imwrite('img_word_dst.png', dst)\n",
    "#         word = tool.image_to_string(\n",
    "#                 Image.open('img_word_dst.png'),\n",
    "#                 lang='eng',\n",
    "#                 builder=pyocr.builders.TextBuilder(tesseract_layout=6)\n",
    "#         )\n",
    "#         pag.typewrite(word)\n",
    "#         print(word)\n",
    "#         time.sleep(0.5)   \n",
    "    except:\n",
    "        word_img = pag.screenshot('img_word.png', region=(364, 582, 200, 40))\n",
    "        word = tool.image_to_string(\n",
    "            Image.open('img_word.png'),\n",
    "            lang='eng',\n",
    "            builder=pyocr.builders.TextBuilder(tesseract_layout=6)\n",
    "        )\n",
    "        print(word)\n",
    "        pag.typewrite(word)\n",
    "        time.sleep(0.5)"
   ]
  },
  {
   "cell_type": "code",
   "execution_count": 9,
   "metadata": {
    "ExecuteTime": {
     "end_time": "2019-08-17T14:09:36.220217Z",
     "start_time": "2019-08-17T14:09:36.210230Z"
    }
   },
   "outputs": [],
   "source": [
    "def typing():\n",
    "    game =0\n",
    "    while game==0:\n",
    "        try:\n",
    "            position_score = pag.locateCenterOnScreen('score.png')\n",
    "            break\n",
    "        except:\n",
    "            typeWord(game)"
   ]
  },
  {
   "cell_type": "code",
   "execution_count": null,
   "metadata": {
    "ExecuteTime": {
     "start_time": "2019-08-17T14:15:18.231Z"
    }
   },
   "outputs": [],
   "source": [
    "getURL(url)\n",
    "starGame()\n",
    "time.sleep(0.5)\n",
    "typing()"
   ]
  },
  {
   "cell_type": "code",
   "execution_count": 94,
   "metadata": {
    "ExecuteTime": {
     "end_time": "2019-08-17T13:20:46.757312Z",
     "start_time": "2019-08-17T13:20:46.743105Z"
    }
   },
   "outputs": [],
   "source": [
    "def typeWordDst():\n",
    "#     word_img = pag.screenshot('img_word.png', region=(364, 582, 200, 40))\n",
    "    img = cv2.imread('img_word.png')\n",
    "    dst = cv2.inRange(img,(0, 0, 10),(255, 255, 255))\n",
    "    plt.imshow(dst)\n",
    "    cv2.imwrite('img_word_dst.png', dst)\n",
    "    word = tool.image_to_string(\n",
    "            Image.open('img_word_dst.png'),\n",
    "            lang='eng',\n",
    "            builder=pyocr.builders.TextBuilder(tesseract_layout=6)\n",
    "    )\n",
    "#     pag.typewrite(word)\n",
    "#     time.sleep(0.5)\n",
    "    print(word)"
   ]
  }
 ],
 "metadata": {
  "kernelspec": {
   "display_name": "py37",
   "language": "python",
   "name": "py37"
  },
  "language_info": {
   "codemirror_mode": {
    "name": "ipython",
    "version": 3
   },
   "file_extension": ".py",
   "mimetype": "text/x-python",
   "name": "python",
   "nbconvert_exporter": "python",
   "pygments_lexer": "ipython3",
   "version": "3.7.3"
  },
  "toc": {
   "base_numbering": 1,
   "nav_menu": {},
   "number_sections": true,
   "sideBar": true,
   "skip_h1_title": false,
   "title_cell": "Table of Contents",
   "title_sidebar": "Contents",
   "toc_cell": false,
   "toc_position": {},
   "toc_section_display": true,
   "toc_window_display": false
  }
 },
 "nbformat": 4,
 "nbformat_minor": 2
}
